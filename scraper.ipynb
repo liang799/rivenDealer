{
  "nbformat": 4,
  "nbformat_minor": 0,
  "metadata": {
    "colab": {
      "name": "scraper.ipynb",
      "provenance": []
    },
    "kernelspec": {
      "name": "python3",
      "display_name": "Python 3"
    },
    "language_info": {
      "name": "python"
    }
  },
  "cells": [
    {
      "cell_type": "code",
      "execution_count": null,
      "metadata": {
        "id": "U0R_Wwsn1CM_"
      },
      "outputs": [],
      "source": [
        "!pip install selenium\n",
        "!apt install chromium-chromedriver\n",
        "!cp /usr/lib/chromium-browser/chromedriver /usr/bin\n",
        "import sys\n",
        "sys.path.insert(0,'/usr/lib/chromium-browser/chromedriver')\n",
        "from selenium import webdriver\n",
        "chrome_options = webdriver.ChromeOptions()\n",
        "chrome_options.add_argument('--headless')\n",
        "chrome_options.add_argument('--no-sandbox')\n",
        "chrome_options.add_argument('--disable-dev-shm-usage')"
      ]
    },
    {
      "cell_type": "code",
      "source": [
        "urls = {\n",
        "  \"primary\": \"https://overframe.gg/tier-list/primary-weapons/\",\n",
        "  \"secondary\": \"https://overframe.gg/tier-list/secondary-weapons/\",\n",
        "  \"melee\": \"https://overframe.gg/tier-list/melee-weapons/\"\n",
        "} "
      ],
      "metadata": {
        "id": "2G6DsqRRdrAx"
      },
      "execution_count": 7,
      "outputs": []
    },
    {
      "cell_type": "code",
      "source": [
        "wd = webdriver.Chrome('chromedriver',options=chrome_options)\n",
        "wd.get(urls[\"primary\"])\n",
        "print(wd.title)"
      ],
      "metadata": {
        "colab": {
          "base_uri": "https://localhost:8080/"
        },
        "id": "UlNgkLqTdFIR",
        "outputId": "a94a0238-79c5-436e-ad94-b02cc6baf67a"
      },
      "execution_count": 10,
      "outputs": [
        {
          "output_type": "stream",
          "name": "stdout",
          "text": [
            "Warframe Primary Weapon Tier List 2022 - Best Primary Weapons - Overframe\n"
          ]
        }
      ]
    },
    {
      "cell_type": "code",
      "source": [
        "from selenium.webdriver.common.by import By\n",
        "\n",
        "tierContainers = wd.find_elements(by=By.CLASS_NAME, value=\"TierList_tierContainer__psIt4\")\n",
        "\n",
        "tierList = {}\n",
        "\n",
        "for tierContainer in tierContainers:\n",
        "  currTier = tierContainer.find_element(By.CLASS_NAME, \"TierList_tierTitle__PdTC9\").text\n",
        "  weapons = tierContainer.find_elements(By.TAG_NAME, \"figcaption\")\n",
        "  for weapon in weapons:\n",
        "    print(weapon.text)"
      ],
      "metadata": {
        "colab": {
          "base_uri": "https://localhost:8080/"
        },
        "id": "wy_TdZGbd-wp",
        "outputId": "01a48575-7490-4454-8b29-c1e81071eb4a"
      },
      "execution_count": 30,
      "outputs": [
        {
          "output_type": "stream",
          "name": "stdout",
          "text": [
            "KUVA ZARR\n",
            "NATARUK\n",
            "PROBOSCIS CERNOS\n",
            "KUVA BRAMMA\n",
            "CEDO\n",
            "TENET ARCA PLASMOR\n",
            "RUBICO PRIME\n",
            "PHENMOR\n",
            "BUBONICO\n",
            "ACCELTRA\n",
            "IGNIS WRAITH\n",
            "TRUMNA\n",
            "TENET ENVOY\n",
            "KUVA KOHM\n",
            "KUVA OGRIS\n",
            "KUVA CHAKKHURR\n",
            "CORINTH PRIME\n",
            "STAHLTA\n",
            "FULMIN\n",
            "VECTIS PRIME\n",
            "PHANTASMA\n",
            "SHEDU\n",
            "ASTILLA PRIME\n",
            "TENET FLUX RIFLE\n",
            "AMPREX\n",
            "TENET TETRA\n",
            "FELARX\n",
            "SCOURGE PRIME\n",
            "KUVA HEK\n",
            "TENORA PRIME\n",
            "OPTICOR VANDAL\n",
            "SOMA PRIME\n",
            "KUVA TONKOR\n",
            "BAZA PRIME\n",
            "STRUN PRIME\n",
            "TIGRIS PRIME\n",
            "TIBERON PRIME\n",
            "AEOLAK\n",
            "LENZ\n",
            "VAYKOR HEK\n",
            "KUVA QUARTAKK\n",
            "ZENITH\n",
            "ARCA PLASMOR\n",
            "EXERGIS\n",
            "SUPRA VANDAL\n",
            "NAGANTAKA PRIME\n",
            "DREAD\n",
            "SYNAPSE\n",
            "KUVA HIND\n",
            "KUVA KARAK\n",
            "AMBASSADOR\n",
            "BASMU\n",
            "SYBARIS PRIME\n",
            "QUELLOR\n",
            "CERNOS PRIME\n",
            "LANKA\n",
            "PHAGE\n",
            "ZHUGE PRIME\n",
            "PRISMA GRAKATA\n",
            "KOMOREX\n",
            "BATTACOR\n",
            "PANTHERA PRIME\n",
            "SANCTI TIGRIS\n",
            "SPOROTHRIX\n",
            "CORINTH\n",
            "KUVA DRAKGOON\n",
            "KOHM\n",
            "GLAXION VANDAL\n",
            "BOAR PRIME\n",
            "MUTALIST CERNOS\n",
            "DAIKYU\n",
            "PRISMA GRINLOK\n",
            "BOLTOR PRIME\n",
            "OPTICOR\n",
            "STRADAVAR PRIME\n",
            "RAKTA CERNOS\n",
            "ASTILLA\n",
            "STRUN WRAITH\n",
            "SECURA PENTA\n",
            "HEK\n",
            "FERROX\n",
            "QUANTA VANDAL\n",
            "PRISMA GORGON\n",
            "TENORA\n",
            "ZARR\n",
            "DEX SYBARIS\n",
            "SYNOID SIMULOR\n",
            "CONVECTRIX\n",
            "RUBICO\n",
            "TELOS BOLTOR\n",
            "SCOURGE\n",
            "IGNIS\n",
            "VECTIS\n",
            "SOBEK\n",
            "VULKAR WRAITH\n",
            "PARIS PRIME\n",
            "HEMA\n",
            "SNIPETRON VANDAL\n",
            "BAZA\n",
            "LATRON PRIME\n",
            "ALTERNOX\n",
            "NAGANTAKA\n",
            "BRATON PRIME\n",
            "SOMA\n",
            "TONKOR\n",
            "TIGRIS\n",
            "KARAK WRAITH\n",
            "BRATON VANDAL\n",
            "BUZLOK\n",
            "LATRON WRAITH\n",
            "ARGONAK\n",
            "MITER\n",
            "OGRIS\n",
            "ATTICA\n",
            "TORID\n",
            "GRAKATA\n",
            "SUPRA\n",
            "CARMINE PENTA\n",
            "PRISMA TETRA\n",
            "MUTALIST QUANTA\n",
            "GORGON WRAITH\n",
            "BURSTON PRIME\n",
            "QUARTAKK\n",
            "DERA VANDAL\n",
            "DRAKGOON\n",
            "ZHUGE\n",
            "PARACYST\n",
            "SYBARIS\n",
            "STRADAVAR\n",
            "TIBERON\n",
            "BOLTOR\n",
            "JAVLOK\n",
            "SIMULOR\n",
            "PANTHERA\n",
            "CERNOS\n",
            "FLUX RIFLE\n",
            "VELDT\n",
            "GLAXION\n",
            "HARPAK\n",
            "KARAK\n",
            "GRINLOK\n",
            "SNIPETRON\n",
            "PENTA\n",
            "MK1-BRATON\n",
            "MK1-STRUN\n",
            "VULKAR\n",
            "QUANTA\n",
            "PARIS\n",
            "STRUN\n",
            "BOAR\n",
            "MK1-PARIS\n",
            "GORGON\n",
            "TETRA\n",
            "LATRON\n",
            "BRATON\n",
            "HIND\n",
            "DERA\n",
            "BURSTON\n"
          ]
        }
      ]
    }
  ]
}