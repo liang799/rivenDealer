{
  "nbformat": 4,
  "nbformat_minor": 0,
  "metadata": {
    "colab": {
      "name": "scraper.ipynb",
      "provenance": []
    },
    "kernelspec": {
      "name": "python3",
      "display_name": "Python 3"
    },
    "language_info": {
      "name": "python"
    }
  },
  "cells": [
    {
      "cell_type": "code",
      "execution_count": null,
      "metadata": {
        "id": "U0R_Wwsn1CM_"
      },
      "outputs": [],
      "source": [
        "!pip install -q selenium\n",
        "!apt-get -qq update\n",
        "!apt install -qq chromium-chromedriver sqlite3\n",
        "!cp /usr/lib/chromium-browser/chromedriver /usr/bin"
      ]
    },
    {
      "cell_type": "code",
      "source": [
        "import sys\n",
        "sys.path.insert(0,'/usr/lib/chromium-browser/chromedriver')\n",
        "\n",
        "from selenium import webdriver\n",
        "chrome_options = webdriver.ChromeOptions()\n",
        "chrome_options.add_argument('--headless')\n",
        "chrome_options.add_argument('--no-sandbox')\n",
        "chrome_options.add_argument('--disable-dev-shm-usage')"
      ],
      "metadata": {
        "id": "3hve7KW3OAvr"
      },
      "execution_count": 2,
      "outputs": []
    },
    {
      "cell_type": "code",
      "source": [
        "urls = {\n",
        "  \"primary\": \"https://overframe.gg/tier-list/primary-weapons/\",\n",
        "  \"secondary\": \"https://overframe.gg/tier-list/secondary-weapons/\",\n",
        "  \"melee\": \"https://overframe.gg/tier-list/melee-weapons/\"\n",
        "} "
      ],
      "metadata": {
        "id": "2G6DsqRRdrAx"
      },
      "execution_count": 3,
      "outputs": []
    },
    {
      "cell_type": "code",
      "source": [
        "from selenium.webdriver.common.by import By\n",
        "import pandas as pd\n",
        "\n",
        "def getTier(url, wType):\n",
        "  wd = webdriver.Chrome('chromedriver',options=chrome_options)\n",
        "  wd.get(url)\n",
        "\n",
        "  tierContainers = wd.find_elements(by=By.CLASS_NAME, value=\"TierList_tierContainer__psIt4\")\n",
        "  wStorage = []\n",
        "  tStorage = []\n",
        "\n",
        "  for tierContainer in tierContainers:\n",
        "    currTier = tierContainer.find_element(By.CLASS_NAME, \"TierList_tierTitle__PdTC9\").text\n",
        "    weapons = tierContainer.find_elements(By.TAG_NAME, \"figcaption\")\n",
        "    for weapon in weapons:\n",
        "      wStorage.append(weapon.text)\n",
        "      tStorage.append(currTier)\n",
        "\n",
        "  d = {\n",
        "      \"type\": wType,\n",
        "      \"weapon\": wStorage,\n",
        "      \"tier\": tStorage,\n",
        "  }\n",
        "  df = pd.DataFrame(data=d)\n",
        "\n",
        "  return df"
      ],
      "metadata": {
        "id": "wy_TdZGbd-wp"
      },
      "execution_count": 4,
      "outputs": []
    },
    {
      "cell_type": "markdown",
      "source": [
        "### Storing data"
      ],
      "metadata": {
        "id": "6uCDF4U3NuKI"
      }
    },
    {
      "cell_type": "code",
      "source": [
        "priFrame = getTier(urls[\"primary\"], \"primary\")\n",
        "secFrame = getTier(urls[\"secondary\"], \"secondary\")\n",
        "melFrame = getTier(urls[\"melee\"], \"melee\")"
      ],
      "metadata": {
        "id": "NblqAKwmF9x4"
      },
      "execution_count": 5,
      "outputs": []
    },
    {
      "cell_type": "code",
      "source": [
        "frame = priFrame.append(secFrame, ignore_index=True)\n",
        "frame = frame.append(melFrame, ignore_index=True)"
      ],
      "metadata": {
        "id": "YyicpApBNQzC"
      },
      "execution_count": 6,
      "outputs": []
    },
    {
      "cell_type": "code",
      "source": [
        "frame"
      ],
      "metadata": {
        "colab": {
          "base_uri": "https://localhost:8080/",
          "height": 424
        },
        "id": "D70KdyEbNlct",
        "outputId": "e6926753-7ed6-495a-c52c-3c7136b5b4f3"
      },
      "execution_count": 7,
      "outputs": [
        {
          "output_type": "execute_result",
          "data": {
            "text/plain": [
              "        type            weapon                 tier\n",
              "0    primary         KUVA ZARR  S Tier - Prime Time\n",
              "1    primary           NATARUK  S Tier - Prime Time\n",
              "2    primary  PROBOSCIS CERNOS  S Tier - Prime Time\n",
              "3    primary       KUVA BRAMMA  S Tier - Prime Time\n",
              "4    primary              CEDO  S Tier - Prime Time\n",
              "..       ...               ...                  ...\n",
              "478    melee         MK1-FURAX  D Tier - Weak Picks\n",
              "479    melee           KESTREL  D Tier - Weak Picks\n",
              "480    melee             FURAX  D Tier - Weak Picks\n",
              "481    melee            KOGAKE  D Tier - Weak Picks\n",
              "482    melee           ANKYROS  D Tier - Weak Picks\n",
              "\n",
              "[483 rows x 3 columns]"
            ],
            "text/html": [
              "\n",
              "  <div id=\"df-11cc2b1b-6d66-4741-88b2-1aaa5cef5cf4\">\n",
              "    <div class=\"colab-df-container\">\n",
              "      <div>\n",
              "<style scoped>\n",
              "    .dataframe tbody tr th:only-of-type {\n",
              "        vertical-align: middle;\n",
              "    }\n",
              "\n",
              "    .dataframe tbody tr th {\n",
              "        vertical-align: top;\n",
              "    }\n",
              "\n",
              "    .dataframe thead th {\n",
              "        text-align: right;\n",
              "    }\n",
              "</style>\n",
              "<table border=\"1\" class=\"dataframe\">\n",
              "  <thead>\n",
              "    <tr style=\"text-align: right;\">\n",
              "      <th></th>\n",
              "      <th>type</th>\n",
              "      <th>weapon</th>\n",
              "      <th>tier</th>\n",
              "    </tr>\n",
              "  </thead>\n",
              "  <tbody>\n",
              "    <tr>\n",
              "      <th>0</th>\n",
              "      <td>primary</td>\n",
              "      <td>KUVA ZARR</td>\n",
              "      <td>S Tier - Prime Time</td>\n",
              "    </tr>\n",
              "    <tr>\n",
              "      <th>1</th>\n",
              "      <td>primary</td>\n",
              "      <td>NATARUK</td>\n",
              "      <td>S Tier - Prime Time</td>\n",
              "    </tr>\n",
              "    <tr>\n",
              "      <th>2</th>\n",
              "      <td>primary</td>\n",
              "      <td>PROBOSCIS CERNOS</td>\n",
              "      <td>S Tier - Prime Time</td>\n",
              "    </tr>\n",
              "    <tr>\n",
              "      <th>3</th>\n",
              "      <td>primary</td>\n",
              "      <td>KUVA BRAMMA</td>\n",
              "      <td>S Tier - Prime Time</td>\n",
              "    </tr>\n",
              "    <tr>\n",
              "      <th>4</th>\n",
              "      <td>primary</td>\n",
              "      <td>CEDO</td>\n",
              "      <td>S Tier - Prime Time</td>\n",
              "    </tr>\n",
              "    <tr>\n",
              "      <th>...</th>\n",
              "      <td>...</td>\n",
              "      <td>...</td>\n",
              "      <td>...</td>\n",
              "    </tr>\n",
              "    <tr>\n",
              "      <th>478</th>\n",
              "      <td>melee</td>\n",
              "      <td>MK1-FURAX</td>\n",
              "      <td>D Tier - Weak Picks</td>\n",
              "    </tr>\n",
              "    <tr>\n",
              "      <th>479</th>\n",
              "      <td>melee</td>\n",
              "      <td>KESTREL</td>\n",
              "      <td>D Tier - Weak Picks</td>\n",
              "    </tr>\n",
              "    <tr>\n",
              "      <th>480</th>\n",
              "      <td>melee</td>\n",
              "      <td>FURAX</td>\n",
              "      <td>D Tier - Weak Picks</td>\n",
              "    </tr>\n",
              "    <tr>\n",
              "      <th>481</th>\n",
              "      <td>melee</td>\n",
              "      <td>KOGAKE</td>\n",
              "      <td>D Tier - Weak Picks</td>\n",
              "    </tr>\n",
              "    <tr>\n",
              "      <th>482</th>\n",
              "      <td>melee</td>\n",
              "      <td>ANKYROS</td>\n",
              "      <td>D Tier - Weak Picks</td>\n",
              "    </tr>\n",
              "  </tbody>\n",
              "</table>\n",
              "<p>483 rows × 3 columns</p>\n",
              "</div>\n",
              "      <button class=\"colab-df-convert\" onclick=\"convertToInteractive('df-11cc2b1b-6d66-4741-88b2-1aaa5cef5cf4')\"\n",
              "              title=\"Convert this dataframe to an interactive table.\"\n",
              "              style=\"display:none;\">\n",
              "        \n",
              "  <svg xmlns=\"http://www.w3.org/2000/svg\" height=\"24px\"viewBox=\"0 0 24 24\"\n",
              "       width=\"24px\">\n",
              "    <path d=\"M0 0h24v24H0V0z\" fill=\"none\"/>\n",
              "    <path d=\"M18.56 5.44l.94 2.06.94-2.06 2.06-.94-2.06-.94-.94-2.06-.94 2.06-2.06.94zm-11 1L8.5 8.5l.94-2.06 2.06-.94-2.06-.94L8.5 2.5l-.94 2.06-2.06.94zm10 10l.94 2.06.94-2.06 2.06-.94-2.06-.94-.94-2.06-.94 2.06-2.06.94z\"/><path d=\"M17.41 7.96l-1.37-1.37c-.4-.4-.92-.59-1.43-.59-.52 0-1.04.2-1.43.59L10.3 9.45l-7.72 7.72c-.78.78-.78 2.05 0 2.83L4 21.41c.39.39.9.59 1.41.59.51 0 1.02-.2 1.41-.59l7.78-7.78 2.81-2.81c.8-.78.8-2.07 0-2.86zM5.41 20L4 18.59l7.72-7.72 1.47 1.35L5.41 20z\"/>\n",
              "  </svg>\n",
              "      </button>\n",
              "      \n",
              "  <style>\n",
              "    .colab-df-container {\n",
              "      display:flex;\n",
              "      flex-wrap:wrap;\n",
              "      gap: 12px;\n",
              "    }\n",
              "\n",
              "    .colab-df-convert {\n",
              "      background-color: #E8F0FE;\n",
              "      border: none;\n",
              "      border-radius: 50%;\n",
              "      cursor: pointer;\n",
              "      display: none;\n",
              "      fill: #1967D2;\n",
              "      height: 32px;\n",
              "      padding: 0 0 0 0;\n",
              "      width: 32px;\n",
              "    }\n",
              "\n",
              "    .colab-df-convert:hover {\n",
              "      background-color: #E2EBFA;\n",
              "      box-shadow: 0px 1px 2px rgba(60, 64, 67, 0.3), 0px 1px 3px 1px rgba(60, 64, 67, 0.15);\n",
              "      fill: #174EA6;\n",
              "    }\n",
              "\n",
              "    [theme=dark] .colab-df-convert {\n",
              "      background-color: #3B4455;\n",
              "      fill: #D2E3FC;\n",
              "    }\n",
              "\n",
              "    [theme=dark] .colab-df-convert:hover {\n",
              "      background-color: #434B5C;\n",
              "      box-shadow: 0px 1px 3px 1px rgba(0, 0, 0, 0.15);\n",
              "      filter: drop-shadow(0px 1px 2px rgba(0, 0, 0, 0.3));\n",
              "      fill: #FFFFFF;\n",
              "    }\n",
              "  </style>\n",
              "\n",
              "      <script>\n",
              "        const buttonEl =\n",
              "          document.querySelector('#df-11cc2b1b-6d66-4741-88b2-1aaa5cef5cf4 button.colab-df-convert');\n",
              "        buttonEl.style.display =\n",
              "          google.colab.kernel.accessAllowed ? 'block' : 'none';\n",
              "\n",
              "        async function convertToInteractive(key) {\n",
              "          const element = document.querySelector('#df-11cc2b1b-6d66-4741-88b2-1aaa5cef5cf4');\n",
              "          const dataTable =\n",
              "            await google.colab.kernel.invokeFunction('convertToInteractive',\n",
              "                                                     [key], {});\n",
              "          if (!dataTable) return;\n",
              "\n",
              "          const docLinkHtml = 'Like what you see? Visit the ' +\n",
              "            '<a target=\"_blank\" href=https://colab.research.google.com/notebooks/data_table.ipynb>data table notebook</a>'\n",
              "            + ' to learn more about interactive tables.';\n",
              "          element.innerHTML = '';\n",
              "          dataTable['output_type'] = 'display_data';\n",
              "          await google.colab.output.renderOutput(dataTable, element);\n",
              "          const docLink = document.createElement('div');\n",
              "          docLink.innerHTML = docLinkHtml;\n",
              "          element.appendChild(docLink);\n",
              "        }\n",
              "      </script>\n",
              "    </div>\n",
              "  </div>\n",
              "  "
            ]
          },
          "metadata": {},
          "execution_count": 7
        }
      ]
    },
    {
      "cell_type": "markdown",
      "source": [
        "### SQL Part"
      ],
      "metadata": {
        "id": "wluHMt7EBbds"
      }
    },
    {
      "cell_type": "code",
      "source": [
        "import sqlite3\n",
        " \n",
        "conn = sqlite3.connect('test.db')"
      ],
      "metadata": {
        "id": "Q2ctoMZPBj9x"
      },
      "execution_count": 8,
      "outputs": []
    },
    {
      "cell_type": "code",
      "source": [
        "frame.to_sql('weapons', con=conn)"
      ],
      "metadata": {
        "id": "iPORDUfpOkYo"
      },
      "execution_count": 9,
      "outputs": []
    },
    {
      "cell_type": "code",
      "source": [
        "!sqlite3 test.db .dump >> database.sql\n",
        "!tail -n 10 database.sql"
      ],
      "metadata": {
        "colab": {
          "base_uri": "https://localhost:8080/"
        },
        "id": "K2DuPpSoTTo8",
        "outputId": "ca58ab0b-cc06-41bb-c16f-6902eebd88f2"
      },
      "execution_count": 10,
      "outputs": [
        {
          "output_type": "stream",
          "name": "stdout",
          "text": [
            "INSERT INTO weapons VALUES(475,'melee','MACHETE','D Tier - Weak Picks');\n",
            "INSERT INTO weapons VALUES(476,'melee','FANG','D Tier - Weak Picks');\n",
            "INSERT INTO weapons VALUES(477,'melee','BO','D Tier - Weak Picks');\n",
            "INSERT INTO weapons VALUES(478,'melee','MK1-FURAX','D Tier - Weak Picks');\n",
            "INSERT INTO weapons VALUES(479,'melee','KESTREL','D Tier - Weak Picks');\n",
            "INSERT INTO weapons VALUES(480,'melee','FURAX','D Tier - Weak Picks');\n",
            "INSERT INTO weapons VALUES(481,'melee','KOGAKE','D Tier - Weak Picks');\n",
            "INSERT INTO weapons VALUES(482,'melee','ANKYROS','D Tier - Weak Picks');\n",
            "CREATE INDEX \"ix_weapons_index\"ON \"weapons\" (\"index\");\n",
            "COMMIT;\n"
          ]
        }
      ]
    }
  ]
}